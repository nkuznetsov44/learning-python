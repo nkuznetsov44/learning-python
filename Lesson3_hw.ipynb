{
 "cells": [
  {
   "cell_type": "markdown",
   "metadata": {},
   "source": [
    "# Домашнее задание к занятию 4"
   ]
  },
  {
   "cell_type": "markdown",
   "metadata": {},
   "source": [
    "### Подготовка к домашнему заданию"
   ]
  },
  {
   "cell_type": "code",
   "execution_count": 61,
   "metadata": {},
   "outputs": [],
   "source": [
    "## Запустить перед выполнением д/з, нужно для подготовки тестовых данных\n",
    "from random import randint, shuffle\n",
    "\n",
    "def shuffled_range(n):\n",
    "    a = list(range(0, n))\n",
    "    shuffle(a)\n",
    "    return a"
   ]
  },
  {
   "cell_type": "code",
   "execution_count": 62,
   "metadata": {},
   "outputs": [
    {
     "name": "stdout",
     "output_type": "stream",
     "text": [
      "len(a) = 3\n",
      "С использованием in:\n",
      "1\n",
      "2\n",
      "3\n",
      "И использованием счетчика:\n",
      "1\n",
      "2\n",
      "3\n"
     ]
    }
   ],
   "source": [
    "## Узнать количество элементов в массиве поможет функция len\n",
    "a = [1, 2, 3]\n",
    "print('len(a) =', len(a))\n",
    "\n",
    "## Пробежаться по массиву с помощью цикла можно несколькими способами:\n",
    "print('С использованием in:')\n",
    "\n",
    "for elem in a:\n",
    "    print(elem)\n",
    "    \n",
    "print('И использованием счетчика:')\n",
    "\n",
    "for i in range(len(a)):\n",
    "    print(a[i])"
   ]
  },
  {
   "cell_type": "markdown",
   "metadata": {},
   "source": [
    "### Задача 1\n",
    "Дан список с целыми числами *a*. Замените все отрицательные числа на обратные по знаку.\n",
    "\n",
    "Пример:\n",
    "\n",
    "Ввод: [-1, -2, 0, 1, 2, -3]\n",
    "\n",
    "Вывод: [1, 2, 0, 1, 2, 3]"
   ]
  },
  {
   "cell_type": "code",
   "execution_count": 52,
   "metadata": {},
   "outputs": [
    {
     "data": {
      "text/plain": [
       "[-3, 4, -5, -6, -1, 7, -5, -3, 4]"
      ]
     },
     "execution_count": 52,
     "metadata": {},
     "output_type": "execute_result"
    }
   ],
   "source": [
    "a = [randint(-10, 10) for _ in range(randint(5, 20))]\n",
    "a"
   ]
  },
  {
   "cell_type": "code",
   "execution_count": 10,
   "metadata": {},
   "outputs": [],
   "source": [
    "# решение задачи 1"
   ]
  },
  {
   "cell_type": "markdown",
   "metadata": {},
   "source": [
    "### Задача 2\n",
    "В списке *b* даны целые числа от 0 до N включительно (каждое ровно по 1 разу), но одно число потерялось (отсутствует в списке). Найдите число, которое потерялось.\n",
    "\n",
    "Пример:\n",
    "\n",
    "Ввод: N = 5; b = [0, 5, 2, 4, 1]\n",
    "\n",
    "Вывод: 3"
   ]
  },
  {
   "cell_type": "code",
   "execution_count": 49,
   "metadata": {},
   "outputs": [
    {
     "data": {
      "text/plain": [
       "[3, 11, 9, 2, 12, 14, 1, 7, 10, 0, 8, 13, 4, 6]"
      ]
     },
     "execution_count": 49,
     "metadata": {},
     "output_type": "execute_result"
    }
   ],
   "source": [
    "N = randint(2, 20)\n",
    "b = shuffled_range(N)\n",
    "b.pop()\n",
    "b"
   ]
  },
  {
   "cell_type": "code",
   "execution_count": null,
   "metadata": {},
   "outputs": [],
   "source": [
    "# решение задачи 2"
   ]
  },
  {
   "cell_type": "markdown",
   "metadata": {},
   "source": [
    "### Задача 3\n",
    "Напишите программу, которая по заданному числу $n$ от 1 до 9 выводит на экран $n$ пингвинов.\n",
    "Изображение одного пингвина имеет размер $5 \\times 9$ символов, между двумя соседними пингвинами\n",
    "также имеется пустой (из пробелов) столбец. Разрешается вывести пустой столбец после последнего пингвина.\n",
    "Учтите, что вывод данных на экран производится построчно, а не попингвинно.\n",
    "\n",
    "Пример:\n",
    "\n",
    "Ввод: n = 3\n",
    "\n",
    "Вывод:"
   ]
  },
  {
   "cell_type": "raw",
   "metadata": {},
   "source": [
    "   _~_       _~_       _~_    \n",
    "  (o o)     (o o)     (o o)   \n",
    " /  V  \\   /  V  \\   /  V  \\  \n",
    "/(  _  )\\ /(  _  )\\ /(  _  )\\ \n",
    "  ^^ ^^     ^^ ^^     ^^ ^^   "
   ]
  },
  {
   "cell_type": "raw",
   "metadata": {},
   "source": [
    "Пингвин:\n",
    "   _~_   \n",
    "  (o o)  \n",
    " /  V  \\ \n",
    "/(  _  )\\\n",
    "  ^^ ^^  "
   ]
  },
  {
   "cell_type": "code",
   "execution_count": 24,
   "metadata": {},
   "outputs": [],
   "source": [
    "# решение задачи 3"
   ]
  },
  {
   "cell_type": "markdown",
   "metadata": {},
   "source": [
    "### Задача 4\n",
    "Дан список c *с* некоторыми элементами. Необходимо развернуть список *c*, то есть расположить в нем элементы в обратном порядке.\n",
    "\n",
    "Пример: c = [1, 2, 3, 4, 5]\n",
    "\n",
    "Вывод: [5, 4, 3, 2, 1]"
   ]
  },
  {
   "cell_type": "code",
   "execution_count": 55,
   "metadata": {},
   "outputs": [
    {
     "data": {
      "text/plain": [
       "[8, 12, 0, 4, 13, 9, 6, 15, 7, 10, 5, 14, 11, 3, 1, 2]"
      ]
     },
     "execution_count": 55,
     "metadata": {},
     "output_type": "execute_result"
    }
   ],
   "source": [
    "c = shuffled_range(randint(2, 20))\n",
    "c"
   ]
  },
  {
   "cell_type": "code",
   "execution_count": 39,
   "metadata": {},
   "outputs": [],
   "source": [
    "# решение задачи 4"
   ]
  },
  {
   "cell_type": "markdown",
   "metadata": {},
   "source": [
    "### Задача 5\n",
    "Задан список *d* с целыми числами - значения некоторой величины за каждый день. Создать список, содержащий значения этой величины с накопленным итогом (cumulative sum).\n",
    "\n",
    "Пример:\n",
    "\n",
    "Ввод: d = [1, 2, 3, 4, 5]\n",
    "\n",
    "Вывод: [1, 3, 6, 10, 15]"
   ]
  },
  {
   "cell_type": "code",
   "execution_count": 57,
   "metadata": {},
   "outputs": [
    {
     "data": {
      "text/plain": [
       "[8, 10, 4, 6, 5, 9, 10, 3, 4]"
      ]
     },
     "execution_count": 57,
     "metadata": {},
     "output_type": "execute_result"
    }
   ],
   "source": [
    "d = [randint(0, 10) for _ in range(randint(3, 20))]\n",
    "d"
   ]
  },
  {
   "cell_type": "code",
   "execution_count": 58,
   "metadata": {},
   "outputs": [],
   "source": [
    "# решение задачи 5"
   ]
  },
  {
   "cell_type": "markdown",
   "metadata": {},
   "source": [
    "### Задача 6\n",
    "В заданном списке *l* числами найти:\n",
    "\n",
    "* максимальный элемент;\n",
    "* среднее значение (среднее арифметическое);\n",
    "* наиболее часто встречающееся значение (если несколько, вывести любое);\n",
    "* медиану;\n",
    "* максимальное число идущих подряд равных элементов;\n",
    "* количество элементов, больших предыдущего;\n",
    "* максимальную длину монотонного фрагмента (где каждый следующий элемент больше предыдущего)."
   ]
  },
  {
   "cell_type": "code",
   "execution_count": 72,
   "metadata": {},
   "outputs": [
    {
     "data": {
      "text/plain": [
       "[3,\n",
       " 8,\n",
       " 0,\n",
       " 2,\n",
       " 1,\n",
       " 4,\n",
       " 6,\n",
       " 2,\n",
       " 5,\n",
       " 2,\n",
       " 8,\n",
       " 2,\n",
       " 4,\n",
       " 8,\n",
       " 7,\n",
       " 3,\n",
       " 9,\n",
       " 5,\n",
       " 9,\n",
       " 6,\n",
       " 9,\n",
       " 7,\n",
       " 0,\n",
       " 7,\n",
       " 3,\n",
       " 0,\n",
       " 2,\n",
       " 3,\n",
       " 2,\n",
       " 5,\n",
       " 9,\n",
       " 6,\n",
       " 3,\n",
       " 8,\n",
       " 7,\n",
       " 0,\n",
       " 7,\n",
       " 2,\n",
       " 0,\n",
       " 8,\n",
       " 0]"
      ]
     },
     "execution_count": 72,
     "metadata": {},
     "output_type": "execute_result"
    }
   ],
   "source": [
    "l = [randint(0, 10) for _ in range(randint(30, 50))]\n",
    "l"
   ]
  },
  {
   "cell_type": "code",
   "execution_count": null,
   "metadata": {},
   "outputs": [],
   "source": [
    "# решение задачи 6"
   ]
  }
 ],
 "metadata": {
  "kernelspec": {
   "display_name": "Python 3",
   "language": "python",
   "name": "python3"
  },
  "language_info": {
   "codemirror_mode": {
    "name": "ipython",
    "version": 3
   },
   "file_extension": ".py",
   "mimetype": "text/x-python",
   "name": "python",
   "nbconvert_exporter": "python",
   "pygments_lexer": "ipython3",
   "version": "3.7.4"
  }
 },
 "nbformat": 4,
 "nbformat_minor": 4
}
