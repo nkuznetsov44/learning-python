{
 "cells": [
  {
   "cell_type": "markdown",
   "metadata": {},
   "source": [
    "# Домашнее задание к занятию 5"
   ]
  },
  {
   "cell_type": "markdown",
   "metadata": {},
   "source": [
    "## Строки"
   ]
  },
  {
   "cell_type": "markdown",
   "metadata": {},
   "source": [
    "Документация по методам строк: https://docs.python.org/3/library/stdtypes.html#string-methods"
   ]
  },
  {
   "cell_type": "markdown",
   "metadata": {},
   "source": [
    "### Задача 1"
   ]
  },
  {
   "cell_type": "markdown",
   "metadata": {},
   "source": [
    "Дана строка, состоящая ровно из двух слов, разделенных пробелом. Переставьте эти слова местами.\n",
    "\n",
    "---\n",
    "\n",
    "_Пример:_\n",
    "\n",
    "Ввод: \"Hello world\"\n",
    "\n",
    "Вывод: \"world Hello\""
   ]
  },
  {
   "cell_type": "code",
   "execution_count": null,
   "metadata": {},
   "outputs": [],
   "source": []
  },
  {
   "cell_type": "markdown",
   "metadata": {},
   "source": [
    "### Задача 2"
   ]
  },
  {
   "cell_type": "markdown",
   "metadata": {},
   "source": [
    "Дана строка - предложение, состоящее из слов, разделенных пробелами, и знаков препинания \".\", \",\", \"!\", \"?\". Определите, сколько в предложении слов длины не меньше, чем 3.\n",
    "\n",
    "---\n",
    "\n",
    "_Пример:_\n",
    "\n",
    "Ввод: \"Was it a car or a cat I saw?\"\n",
    "\n",
    "Вывод: 4"
   ]
  },
  {
   "cell_type": "code",
   "execution_count": null,
   "metadata": {},
   "outputs": [],
   "source": []
  },
  {
   "cell_type": "markdown",
   "metadata": {},
   "source": [
    "### Задача 3"
   ]
  },
  {
   "cell_type": "markdown",
   "metadata": {},
   "source": [
    "Проверьте, является ли данная строка палиндромом. Палиндром — это слово или фраза, которые одинаково читаются слева направо и справа налево. Обратите внимание, что знаки препинания не должны учитываться при проверке, а также что большие и маленькие буквы должны считаться одинаковыми.\n",
    "\n",
    "---\n",
    "\n",
    "_Пример:_\n",
    "\n",
    "Ввод: \"Was it a car or a cat I saw?\"\n",
    "\n",
    "Вывод: True\n",
    "\n",
    "---\n",
    "Ввод: \"Hello, world!\"\n",
    "\n",
    "Вывод: False"
   ]
  },
  {
   "cell_type": "code",
   "execution_count": null,
   "metadata": {},
   "outputs": [],
   "source": []
  },
  {
   "cell_type": "markdown",
   "metadata": {},
   "source": [
    "## Списки"
   ]
  },
  {
   "cell_type": "markdown",
   "metadata": {},
   "source": [
    "Документация по методам списка: https://docs.python.org/3/tutorial/datastructures.html"
   ]
  },
  {
   "cell_type": "markdown",
   "metadata": {},
   "source": [
    "### Задача 4"
   ]
  },
  {
   "cell_type": "markdown",
   "metadata": {},
   "source": [
    "Напишите функцию, которая принимает на вход список целых чисел и рисует гистограмму данных.\n",
    "\n",
    "---\n",
    "\n",
    "_Пример:_\n",
    "\n",
    "Ввод: [2, 3, 7, 4]\n",
    "\n",
    "Вывод:"
   ]
  },
  {
   "cell_type": "raw",
   "metadata": {},
   "source": [
    "##\n",
    "###\n",
    "#######\n",
    "####"
   ]
  },
  {
   "cell_type": "code",
   "execution_count": null,
   "metadata": {},
   "outputs": [],
   "source": []
  },
  {
   "cell_type": "markdown",
   "metadata": {},
   "source": [
    "### Задача 5"
   ]
  },
  {
   "cell_type": "markdown",
   "metadata": {},
   "source": [
    "Дан список целых чисел. Требуется “сжать” его, переместив все ненулевые элементы в левую часть списка, не меняя их порядок, а все нули - в правую часть. Порядок ненулевых элементов изменять нельзя.\n",
    "\n",
    "---\n",
    "\n",
    "_Пример:_\n",
    "\n",
    "Ввод: [1, 2, 0, 3, 0, 0, 4, 5]\n",
    "\n",
    "Вывод: [1, 2, 3, 4, 5, 0, 0, 0]"
   ]
  },
  {
   "cell_type": "code",
   "execution_count": null,
   "metadata": {},
   "outputs": [],
   "source": []
  },
  {
   "cell_type": "markdown",
   "metadata": {},
   "source": [
    "### Задача 6"
   ]
  },
  {
   "cell_type": "markdown",
   "metadata": {},
   "source": [
    "Напишите функцию, принимающую на вход два аргумента: список и число $k$. Функция должна возвращать новый список, содержащий части исходного списка равной длины $k$. Если длина исходного списка не делится целиком на $k$, число элементов в последней части должно быть равным остатку от деления длины исходного списка на $k$.\n",
    "\n",
    "---\n",
    "\n",
    "_Пример:_\n",
    "\n",
    "Ввод: [1, 2, 3, 4, 5, 6, 7, 8], k = 3\n",
    "\n",
    "Вывод: [[1, 2, 3], [4, 5, 6], [7, 8]]"
   ]
  },
  {
   "cell_type": "code",
   "execution_count": null,
   "metadata": {},
   "outputs": [],
   "source": []
  },
  {
   "cell_type": "markdown",
   "metadata": {},
   "source": [
    "### Задача 7"
   ]
  },
  {
   "cell_type": "markdown",
   "metadata": {},
   "source": [
    "Дан список из целых чисел и число $k$. Циклически сдвиньте список на $|k|$ элементов вправо, если $k$ – положительное и влево, если отрицательное.\n",
    "\n",
    "---\n",
    "\n",
    "_Пример:_\n",
    "\n",
    "Ввод: [5, 3, 7, 4, 6], k = 3\n",
    "\n",
    "Вывод: [7, 4, 6, 5, 3]\n",
    "\n",
    "---\n",
    "\n",
    "Ввод: [5, 3, 7, 4, 6], k = -1\n",
    "\n",
    "Вывод: [3, 7, 4, 6, 5]"
   ]
  },
  {
   "cell_type": "code",
   "execution_count": null,
   "metadata": {},
   "outputs": [],
   "source": []
  },
  {
   "cell_type": "markdown",
   "metadata": {},
   "source": [
    "## Все подряд"
   ]
  },
  {
   "cell_type": "markdown",
   "metadata": {},
   "source": [
    "### Задача 8"
   ]
  },
  {
   "cell_type": "markdown",
   "metadata": {},
   "source": [
    "Напишите функцию, принимающую на вход целое число $0 < n < 4000$, и возвращающую его запись римскими цифрами.\n",
    "\n",
    "Соответствие чисел в римской записи:\n",
    "\n",
    "| Римская запись | Значение |\n",
    "|----------------|----------|\n",
    "| I              | 1        |\n",
    "| V              | 5        |\n",
    "| X              | 10       |\n",
    "| L              | 50       |\n",
    "| C              | 100      |\n",
    "| D              | 500      |\n",
    "| M              | 1000     |\n",
    "\n",
    "*Правила записи чисел римскими цифрами:*\n",
    "\n",
    "1. Цифры I, X, C, M могут повторяться, но не более 3 раз подряд.\n",
    "2. Если меньшая цифра записана справа от большей, она прибавляется к большей.\n",
    "3. Если меньшая цифра записана слева от большей, ее следует вычесть из большей. Вычитаться могут только цифры I, X, C. При этом повторение меньшей цифры не допускается, а в качестве уменьшаемого могут быть использованы только две ближайшие в числовом ряду цифры. Таким образом, допустимы только 6 способов применения этого правила:\n",
    "\n",
    "| Римская запись | Значение |\n",
    "|----------------|----------|\n",
    "| IV             | 4        |\n",
    "| IX             | 9        |\n",
    "| XL             | 40       |\n",
    "| XC             | 90       |\n",
    "| CD             | 400      |\n",
    "| CM             | 900      |\n",
    "\n",
    "---\n",
    "\n",
    "_Пример:_\n",
    "\n",
    "Ввод: 3999\n",
    "\n",
    "Вывод: MMMCMXCIX\n",
    "\n",
    "---\n",
    "\n",
    "Ввод: 1988\n",
    "\n",
    "Вывод: MCMLXXXVIII"
   ]
  },
  {
   "cell_type": "code",
   "execution_count": null,
   "metadata": {},
   "outputs": [],
   "source": []
  },
  {
   "cell_type": "markdown",
   "metadata": {},
   "source": [
    "### Задача 9"
   ]
  },
  {
   "cell_type": "markdown",
   "metadata": {},
   "source": [
    "Напишите функцию, принимающую на вход строку, содержащую запись числа $0 < n < 4000$ римскими цифрами, и возвращающую целое число $n$."
   ]
  },
  {
   "cell_type": "code",
   "execution_count": null,
   "metadata": {},
   "outputs": [],
   "source": []
  }
 ],
 "metadata": {
  "kernelspec": {
   "display_name": "Python 3",
   "language": "python",
   "name": "python3"
  },
  "language_info": {
   "codemirror_mode": {
    "name": "ipython",
    "version": 3
   },
   "file_extension": ".py",
   "mimetype": "text/x-python",
   "name": "python",
   "nbconvert_exporter": "python",
   "pygments_lexer": "ipython3",
   "version": "3.7.4"
  }
 },
 "nbformat": 4,
 "nbformat_minor": 4
}
